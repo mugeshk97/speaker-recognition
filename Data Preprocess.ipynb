{
 "cells": [
  {
   "cell_type": "code",
   "execution_count": 1,
   "metadata": {},
   "outputs": [],
   "source": [
    "import os\n",
    "import json\n",
    "import numpy as np\n",
    "import librosa, librosa.display"
   ]
  },
  {
   "cell_type": "code",
   "execution_count": 2,
   "metadata": {},
   "outputs": [],
   "source": [
    "data = {\n",
    "    'mapping': [],\n",
    "    'mfcc' : [],\n",
    "    'label' : []\n",
    "}"
   ]
  },
  {
   "cell_type": "code",
   "execution_count": 3,
   "metadata": {},
   "outputs": [],
   "source": [
    "sample_rate = 22050\n",
    "segments = 10"
   ]
  },
  {
   "cell_type": "code",
   "execution_count": 4,
   "metadata": {},
   "outputs": [
    {
     "name": "stdout",
     "output_type": "stream",
     "text": [
      "2205\n",
      "5.0\n"
     ]
    }
   ],
   "source": [
    "samples_per_segment = int(sample_rate / segments)\n",
    "print(samples_per_segment)\n",
    "num_mfcc_vectors_per_segment = np.ceil(samples_per_segment / 512)\n",
    "print(num_mfcc_vectors_per_segment)"
   ]
  },
  {
   "cell_type": "code",
   "execution_count": 5,
   "metadata": {},
   "outputs": [
    {
     "name": "stdout",
     "output_type": "stream",
     "text": [
      "Processing Jens_Stoltenberg class\n",
      "Processing Benjamin_Netanyau class\n",
      "Processing Nelson_Mandela class\n",
      "Processing Magaret_Tarcher class\n",
      "Processing Julia_Gillard class\n"
     ]
    }
   ],
   "source": [
    "for i in os.listdir('Data/'):\n",
    "    data['mapping'].append(i)\n",
    "    print(f'Processing {i} class')\n",
    "    for j in os.listdir('Data/'+i):\n",
    "        path = 'Data/'+i+'/'+j\n",
    "        signal, sr = librosa.load(path)\n",
    "    \n",
    "        for d in range(segments):\n",
    "\n",
    "            start = samples_per_segment * d\n",
    "            finish = start + samples_per_segment\n",
    "            \n",
    "            mfcc = librosa.feature.mfcc(signal[start:finish], sr, n_mfcc= 13, n_fft = 2048, hop_length = 512)\n",
    "            \n",
    "            mfcc=mfcc.T\n",
    "            \n",
    "            if len(mfcc) == num_mfcc_vectors_per_segment:\n",
    "                    data[\"mfcc\"].append(mfcc.tolist())\n",
    "                    data[\"label\"].append(i)"
   ]
  },
  {
   "cell_type": "code",
   "execution_count": 6,
   "metadata": {},
   "outputs": [],
   "source": [
    "with open('speaker_data.json', \"w\") as f:\n",
    "    json.dump(data, f, indent=4)"
   ]
  }
 ],
 "metadata": {
  "kernelspec": {
   "display_name": "Python 3",
   "language": "python",
   "name": "python3"
  },
  "language_info": {
   "codemirror_mode": {
    "name": "ipython",
    "version": 3
   },
   "file_extension": ".py",
   "mimetype": "text/x-python",
   "name": "python",
   "nbconvert_exporter": "python",
   "pygments_lexer": "ipython3",
   "version": "3.7.6"
  }
 },
 "nbformat": 4,
 "nbformat_minor": 4
}
