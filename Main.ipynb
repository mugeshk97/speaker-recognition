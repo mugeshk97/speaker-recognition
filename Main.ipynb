{
 "cells": [
  {
   "cell_type": "code",
   "execution_count": 1,
   "metadata": {},
   "outputs": [],
   "source": [
    "import json\n",
    "import numpy as np\n",
    "from sklearn.model_selection import train_test_split\n",
    "from sklearn.preprocessing import LabelEncoder, OneHotEncoder"
   ]
  },
  {
   "cell_type": "code",
   "execution_count": 2,
   "metadata": {
    "scrolled": false
   },
   "outputs": [],
   "source": [
    "with open('speaker_data.json', \"r\") as f:\n",
    "    data = json.load(f)"
   ]
  },
  {
   "cell_type": "code",
   "execution_count": 3,
   "metadata": {},
   "outputs": [],
   "source": [
    "X = np.array(data[\"mfcc\"], dtype = 'float32')\n",
    "y = np.array(data[\"label\"])"
   ]
  },
  {
   "cell_type": "code",
   "execution_count": 4,
   "metadata": {},
   "outputs": [],
   "source": [
    "encoder = LabelEncoder()\n",
    "y = encoder.fit_transform(y)"
   ]
  },
  {
   "cell_type": "code",
   "execution_count": 5,
   "metadata": {},
   "outputs": [],
   "source": [
    "x_train, x_test, y_train, y_test = train_test_split(X, y, test_size=0.1,random_state=0)"
   ]
  },
  {
   "cell_type": "code",
   "execution_count": 6,
   "metadata": {},
   "outputs": [],
   "source": [
    "x_train = x_train[..., np.newaxis]\n",
    "x_test = x_test[..., np.newaxis]"
   ]
  },
  {
   "cell_type": "code",
   "execution_count": 7,
   "metadata": {},
   "outputs": [],
   "source": [
    "import tensorflow as tf\n",
    "gpu = tf.config.experimental.list_physical_devices('GPU')\n",
    "tf.config.experimental.set_memory_growth(gpu[0], True)"
   ]
  },
  {
   "cell_type": "code",
   "execution_count": 9,
   "metadata": {},
   "outputs": [],
   "source": [
    "model = tf.keras.models.Sequential()\n",
    "\n",
    "\n",
    "model.add(tf.keras.layers.Conv2D(32,kernel_size=(5,5),input_shape=(x_train.shape[1],x_train.shape[2],1),padding='same',kernel_initializer='he_uniform',activation='relu'))\n",
    "model.add(tf.keras.layers.BatchNormalization())\n",
    "model.add(tf.keras.layers.MaxPool2D(pool_size=(2,2)))\n",
    "\n",
    "model.add(tf.keras.layers.Flatten())\n",
    "\n",
    "model.add(tf.keras.layers.Dense(128, activation = \"relu\", kernel_initializer='he_uniform'))\n",
    "model.add(tf.keras.layers.Dense(128, activation = \"relu\", kernel_initializer='he_uniform'))\n",
    "model.add(tf.keras.layers.BatchNormalization())\n",
    "model.add(tf.keras.layers.Dropout(0.2))\n",
    "\n",
    "model.add(tf.keras.layers.Dense(64, activation = \"relu\", kernel_initializer='he_uniform'))\n",
    "model.add(tf.keras.layers.Dense(64, activation = \"relu\", kernel_initializer='he_uniform'))\n",
    "model.add(tf.keras.layers.BatchNormalization())\n",
    "model.add(tf.keras.layers.Dropout(0.2))\n",
    "\n",
    "model.add(tf.keras.layers.Dense(5, activation = \"softmax\"))"
   ]
  },
  {
   "cell_type": "code",
   "execution_count": 10,
   "metadata": {},
   "outputs": [
    {
     "name": "stdout",
     "output_type": "stream",
     "text": [
      "Model: \"sequential\"\n",
      "_________________________________________________________________\n",
      "Layer (type)                 Output Shape              Param #   \n",
      "=================================================================\n",
      "conv2d (Conv2D)              (None, 5, 13, 32)         832       \n",
      "_________________________________________________________________\n",
      "batch_normalization (BatchNo (None, 5, 13, 32)         128       \n",
      "_________________________________________________________________\n",
      "max_pooling2d (MaxPooling2D) (None, 2, 6, 32)          0         \n",
      "_________________________________________________________________\n",
      "flatten (Flatten)            (None, 384)               0         \n",
      "_________________________________________________________________\n",
      "dense (Dense)                (None, 128)               49280     \n",
      "_________________________________________________________________\n",
      "dense_1 (Dense)              (None, 128)               16512     \n",
      "_________________________________________________________________\n",
      "batch_normalization_1 (Batch (None, 128)               512       \n",
      "_________________________________________________________________\n",
      "dropout (Dropout)            (None, 128)               0         \n",
      "_________________________________________________________________\n",
      "dense_2 (Dense)              (None, 64)                8256      \n",
      "_________________________________________________________________\n",
      "dense_3 (Dense)              (None, 64)                4160      \n",
      "_________________________________________________________________\n",
      "batch_normalization_2 (Batch (None, 64)                256       \n",
      "_________________________________________________________________\n",
      "dropout_1 (Dropout)          (None, 64)                0         \n",
      "_________________________________________________________________\n",
      "dense_4 (Dense)              (None, 5)                 325       \n",
      "=================================================================\n",
      "Total params: 80,261\n",
      "Trainable params: 79,813\n",
      "Non-trainable params: 448\n",
      "_________________________________________________________________\n"
     ]
    }
   ],
   "source": [
    "model.summary()"
   ]
  },
  {
   "cell_type": "code",
   "execution_count": 11,
   "metadata": {},
   "outputs": [],
   "source": [
    "model.compile(optimizer='adam', loss='sparse_categorical_crossentropy', metrics=['accuracy'])"
   ]
  },
  {
   "cell_type": "code",
   "execution_count": 12,
   "metadata": {},
   "outputs": [
    {
     "name": "stdout",
     "output_type": "stream",
     "text": [
      "Epoch 1/100\n",
      "4220/4220 [==============================] - 10s 2ms/step - loss: 0.4290 - accuracy: 0.8456 - val_loss: 0.2393 - val_accuracy: 0.9169\n",
      "Epoch 2/100\n",
      "4220/4220 [==============================] - 9s 2ms/step - loss: 0.2324 - accuracy: 0.9215 - val_loss: 0.1600 - val_accuracy: 0.9431\n",
      "Epoch 3/100\n",
      "4220/4220 [==============================] - 9s 2ms/step - loss: 0.1838 - accuracy: 0.9381 - val_loss: 0.1123 - val_accuracy: 0.9603\n",
      "Epoch 4/100\n",
      "4220/4220 [==============================] - 9s 2ms/step - loss: 0.1580 - accuracy: 0.9471 - val_loss: 0.1323 - val_accuracy: 0.9564\n",
      "Epoch 5/100\n",
      "4220/4220 [==============================] - 9s 2ms/step - loss: 0.1417 - accuracy: 0.9529 - val_loss: 0.1035 - val_accuracy: 0.9651\n",
      "Epoch 6/100\n",
      "4220/4220 [==============================] - 10s 2ms/step - loss: 0.1265 - accuracy: 0.9582 - val_loss: 0.1039 - val_accuracy: 0.9649\n",
      "Epoch 7/100\n",
      "4220/4220 [==============================] - 9s 2ms/step - loss: 0.1186 - accuracy: 0.9610 - val_loss: 0.0966 - val_accuracy: 0.9672\n",
      "Epoch 8/100\n",
      "4220/4220 [==============================] - 9s 2ms/step - loss: 0.1127 - accuracy: 0.9631 - val_loss: 0.1102 - val_accuracy: 0.9637\n",
      "Epoch 9/100\n",
      "4220/4220 [==============================] - 10s 2ms/step - loss: 0.1057 - accuracy: 0.9647 - val_loss: 0.0874 - val_accuracy: 0.9699\n",
      "Epoch 10/100\n",
      "4220/4220 [==============================] - 10s 2ms/step - loss: 0.1008 - accuracy: 0.9665 - val_loss: 0.0902 - val_accuracy: 0.9709\n",
      "Epoch 11/100\n",
      "4220/4220 [==============================] - 10s 2ms/step - loss: 0.0969 - accuracy: 0.9685 - val_loss: 0.0900 - val_accuracy: 0.9683\n",
      "Epoch 12/100\n",
      "4220/4220 [==============================] - 10s 2ms/step - loss: 0.0932 - accuracy: 0.9699 - val_loss: 0.0915 - val_accuracy: 0.9689\n",
      "Epoch 13/100\n",
      "4220/4220 [==============================] - 10s 2ms/step - loss: 0.0867 - accuracy: 0.9708 - val_loss: 0.0731 - val_accuracy: 0.9753\n",
      "Epoch 14/100\n",
      "4220/4220 [==============================] - 10s 2ms/step - loss: 0.0842 - accuracy: 0.9715 - val_loss: 0.0729 - val_accuracy: 0.9763\n",
      "Epoch 15/100\n",
      "4220/4220 [==============================] - 10s 2ms/step - loss: 0.0798 - accuracy: 0.9737 - val_loss: 0.0834 - val_accuracy: 0.9711\n",
      "Epoch 16/100\n",
      "4220/4220 [==============================] - 10s 2ms/step - loss: 0.0806 - accuracy: 0.9732 - val_loss: 0.0733 - val_accuracy: 0.9759\n",
      "Epoch 17/100\n",
      "4220/4220 [==============================] - 10s 2ms/step - loss: 0.0766 - accuracy: 0.9740 - val_loss: 0.0778 - val_accuracy: 0.9720\n",
      "Epoch 18/100\n",
      "4220/4220 [==============================] - 10s 2ms/step - loss: 0.0738 - accuracy: 0.9751 - val_loss: 0.0827 - val_accuracy: 0.9717\n",
      "Epoch 19/100\n",
      "4220/4220 [==============================] - 10s 2ms/step - loss: 0.0701 - accuracy: 0.9769 - val_loss: 0.0711 - val_accuracy: 0.9753\n",
      "Epoch 20/100\n",
      "4220/4220 [==============================] - 11s 2ms/step - loss: 0.0674 - accuracy: 0.9767 - val_loss: 0.0780 - val_accuracy: 0.9725\n",
      "Epoch 21/100\n",
      "4220/4220 [==============================] - 10s 2ms/step - loss: 0.0680 - accuracy: 0.9771 - val_loss: 0.0835 - val_accuracy: 0.9733\n",
      "Epoch 22/100\n",
      "4220/4220 [==============================] - 10s 2ms/step - loss: 0.0653 - accuracy: 0.9779 - val_loss: 0.0739 - val_accuracy: 0.9756\n",
      "Epoch 23/100\n",
      "4220/4220 [==============================] - 10s 2ms/step - loss: 0.0642 - accuracy: 0.9782 - val_loss: 0.0710 - val_accuracy: 0.9752\n",
      "Epoch 24/100\n",
      "4220/4220 [==============================] - 11s 3ms/step - loss: 0.0604 - accuracy: 0.9800 - val_loss: 0.0681 - val_accuracy: 0.9761\n",
      "Epoch 25/100\n",
      "4220/4220 [==============================] - 10s 2ms/step - loss: 0.0603 - accuracy: 0.9796 - val_loss: 0.0738 - val_accuracy: 0.9765\n",
      "Epoch 26/100\n",
      "4220/4220 [==============================] - 10s 2ms/step - loss: 0.0572 - accuracy: 0.9801 - val_loss: 0.0816 - val_accuracy: 0.9743\n",
      "Epoch 27/100\n",
      "4220/4220 [==============================] - 11s 3ms/step - loss: 0.0572 - accuracy: 0.9812 - val_loss: 0.0804 - val_accuracy: 0.9719\n",
      "Epoch 28/100\n",
      "4220/4220 [==============================] - 11s 3ms/step - loss: 0.0578 - accuracy: 0.9806 - val_loss: 0.0786 - val_accuracy: 0.9721\n",
      "Epoch 29/100\n",
      "4220/4220 [==============================] - 10s 2ms/step - loss: 0.0568 - accuracy: 0.9807 - val_loss: 0.0825 - val_accuracy: 0.9716\n",
      "Epoch 30/100\n",
      "4220/4220 [==============================] - 10s 2ms/step - loss: 0.0532 - accuracy: 0.9821 - val_loss: 0.0732 - val_accuracy: 0.9748\n",
      "Epoch 31/100\n",
      "4220/4220 [==============================] - 11s 2ms/step - loss: 0.0532 - accuracy: 0.9820 - val_loss: 0.0691 - val_accuracy: 0.9760\n",
      "Epoch 32/100\n",
      "4220/4220 [==============================] - 11s 3ms/step - loss: 0.0521 - accuracy: 0.9829 - val_loss: 0.0814 - val_accuracy: 0.9723\n",
      "Epoch 33/100\n",
      "4220/4220 [==============================] - 10s 2ms/step - loss: 0.0504 - accuracy: 0.9827 - val_loss: 0.0684 - val_accuracy: 0.9756\n",
      "Epoch 34/100\n",
      "4220/4220 [==============================] - 10s 2ms/step - loss: 0.0487 - accuracy: 0.9838 - val_loss: 0.0674 - val_accuracy: 0.9776\n",
      "Epoch 35/100\n",
      "4220/4220 [==============================] - 10s 2ms/step - loss: 0.0483 - accuracy: 0.9835 - val_loss: 0.0745 - val_accuracy: 0.9769\n",
      "Epoch 36/100\n",
      "4220/4220 [==============================] - 10s 2ms/step - loss: 0.0470 - accuracy: 0.9843 - val_loss: 0.0696 - val_accuracy: 0.9764\n",
      "Epoch 37/100\n",
      "4220/4220 [==============================] - 10s 2ms/step - loss: 0.0448 - accuracy: 0.9849 - val_loss: 0.0729 - val_accuracy: 0.9751\n",
      "Epoch 38/100\n",
      "4220/4220 [==============================] - 11s 3ms/step - loss: 0.0462 - accuracy: 0.9847 - val_loss: 0.0691 - val_accuracy: 0.9768\n",
      "Epoch 39/100\n",
      "4220/4220 [==============================] - 11s 3ms/step - loss: 0.0435 - accuracy: 0.9850 - val_loss: 0.0810 - val_accuracy: 0.9737\n",
      "Epoch 40/100\n",
      "4220/4220 [==============================] - 10s 2ms/step - loss: 0.0425 - accuracy: 0.9855 - val_loss: 0.0742 - val_accuracy: 0.9744\n",
      "Epoch 41/100\n",
      "4220/4220 [==============================] - 11s 3ms/step - loss: 0.0431 - accuracy: 0.9857 - val_loss: 0.0707 - val_accuracy: 0.9780\n",
      "Epoch 42/100\n",
      "4220/4220 [==============================] - 12s 3ms/step - loss: 0.0411 - accuracy: 0.9862 - val_loss: 0.0693 - val_accuracy: 0.9791\n",
      "Epoch 43/100\n",
      "4220/4220 [==============================] - 11s 3ms/step - loss: 0.0427 - accuracy: 0.9847 - val_loss: 0.0663 - val_accuracy: 0.9779\n",
      "Epoch 44/100\n",
      "4220/4220 [==============================] - 12s 3ms/step - loss: 0.0390 - accuracy: 0.9867 - val_loss: 0.0718 - val_accuracy: 0.9780\n",
      "Epoch 45/100\n",
      "4220/4220 [==============================] - 11s 3ms/step - loss: 0.0390 - accuracy: 0.9865 - val_loss: 0.0737 - val_accuracy: 0.9771\n",
      "Epoch 46/100\n",
      "4220/4220 [==============================] - 11s 3ms/step - loss: 0.0385 - accuracy: 0.9869 - val_loss: 0.0691 - val_accuracy: 0.9784\n",
      "Epoch 47/100\n",
      "4220/4220 [==============================] - 11s 3ms/step - loss: 0.0390 - accuracy: 0.9868 - val_loss: 0.0707 - val_accuracy: 0.9761\n",
      "Epoch 48/100\n",
      "4220/4220 [==============================] - 11s 3ms/step - loss: 0.0381 - accuracy: 0.9867 - val_loss: 0.1007 - val_accuracy: 0.9689\n",
      "Epoch 49/100\n",
      "4220/4220 [==============================] - 11s 3ms/step - loss: 0.0390 - accuracy: 0.9872 - val_loss: 0.0718 - val_accuracy: 0.9777\n",
      "Epoch 50/100\n",
      "4220/4220 [==============================] - 11s 3ms/step - loss: 0.0353 - accuracy: 0.9881 - val_loss: 0.0833 - val_accuracy: 0.9724\n",
      "Epoch 51/100\n",
      "4220/4220 [==============================] - 11s 3ms/step - loss: 0.0360 - accuracy: 0.9880 - val_loss: 0.0684 - val_accuracy: 0.9768\n",
      "Epoch 52/100\n",
      "4220/4220 [==============================] - 11s 3ms/step - loss: 0.0351 - accuracy: 0.9880 - val_loss: 0.0671 - val_accuracy: 0.9799\n",
      "Epoch 53/100\n",
      "4220/4220 [==============================] - 11s 3ms/step - loss: 0.0355 - accuracy: 0.9878 - val_loss: 0.0697 - val_accuracy: 0.9775\n",
      "Epoch 54/100\n",
      "4220/4220 [==============================] - 11s 3ms/step - loss: 0.0345 - accuracy: 0.9881 - val_loss: 0.0775 - val_accuracy: 0.9760\n",
      "Epoch 55/100\n",
      "4220/4220 [==============================] - 11s 3ms/step - loss: 0.0331 - accuracy: 0.9887 - val_loss: 0.0767 - val_accuracy: 0.9765\n",
      "Epoch 56/100\n",
      "4220/4220 [==============================] - 9s 2ms/step - loss: 0.0313 - accuracy: 0.9893 - val_loss: 0.0793 - val_accuracy: 0.9772\n"
     ]
    },
    {
     "name": "stdout",
     "output_type": "stream",
     "text": [
      "Epoch 57/100\n",
      "4220/4220 [==============================] - 10s 2ms/step - loss: 0.0339 - accuracy: 0.9884 - val_loss: 0.0761 - val_accuracy: 0.9751\n",
      "Epoch 58/100\n",
      "4220/4220 [==============================] - 10s 2ms/step - loss: 0.0322 - accuracy: 0.9891 - val_loss: 0.0713 - val_accuracy: 0.9779\n",
      "Epoch 59/100\n",
      "4220/4220 [==============================] - 12s 3ms/step - loss: 0.0320 - accuracy: 0.9889 - val_loss: 0.0887 - val_accuracy: 0.9727\n",
      "Epoch 60/100\n",
      "4220/4220 [==============================] - 10s 2ms/step - loss: 0.0318 - accuracy: 0.9892 - val_loss: 0.0732 - val_accuracy: 0.9775\n",
      "Epoch 61/100\n",
      "4220/4220 [==============================] - 12s 3ms/step - loss: 0.0307 - accuracy: 0.9894 - val_loss: 0.0693 - val_accuracy: 0.9789\n",
      "Epoch 62/100\n",
      "4220/4220 [==============================] - 11s 3ms/step - loss: 0.0302 - accuracy: 0.9897 - val_loss: 0.0742 - val_accuracy: 0.9769\n",
      "Epoch 63/100\n",
      "4220/4220 [==============================] - 11s 3ms/step - loss: 0.0309 - accuracy: 0.9896 - val_loss: 0.0809 - val_accuracy: 0.9757\n",
      "Epoch 64/100\n",
      "4220/4220 [==============================] - 11s 3ms/step - loss: 0.0302 - accuracy: 0.9896 - val_loss: 0.0751 - val_accuracy: 0.9769\n",
      "Epoch 65/100\n",
      "4220/4220 [==============================] - 11s 3ms/step - loss: 0.0290 - accuracy: 0.9903 - val_loss: 0.0781 - val_accuracy: 0.9744\n",
      "Epoch 66/100\n",
      "4220/4220 [==============================] - 12s 3ms/step - loss: 0.0282 - accuracy: 0.9906 - val_loss: 0.0795 - val_accuracy: 0.9753\n",
      "Epoch 67/100\n",
      "4220/4220 [==============================] - 11s 3ms/step - loss: 0.0272 - accuracy: 0.9907 - val_loss: 0.0846 - val_accuracy: 0.9751\n",
      "Epoch 68/100\n",
      "4220/4220 [==============================] - 11s 3ms/step - loss: 0.0282 - accuracy: 0.9904 - val_loss: 0.0838 - val_accuracy: 0.9747\n",
      "Epoch 69/100\n",
      "4220/4220 [==============================] - 11s 3ms/step - loss: 0.0273 - accuracy: 0.9907 - val_loss: 0.0825 - val_accuracy: 0.9757\n",
      "Epoch 70/100\n",
      "4220/4220 [==============================] - 12s 3ms/step - loss: 0.0312 - accuracy: 0.9892 - val_loss: 0.0729 - val_accuracy: 0.9771\n",
      "Epoch 71/100\n",
      "4220/4220 [==============================] - 12s 3ms/step - loss: 0.0270 - accuracy: 0.9911 - val_loss: 0.0719 - val_accuracy: 0.9787\n",
      "Epoch 72/100\n",
      "4220/4220 [==============================] - 14s 3ms/step - loss: 0.0271 - accuracy: 0.9910 - val_loss: 0.0796 - val_accuracy: 0.9785\n",
      "Epoch 73/100\n",
      "4220/4220 [==============================] - 14s 3ms/step - loss: 0.0257 - accuracy: 0.9912 - val_loss: 0.0771 - val_accuracy: 0.9763\n",
      "Epoch 74/100\n",
      "4220/4220 [==============================] - 14s 3ms/step - loss: 0.0265 - accuracy: 0.9910 - val_loss: 0.0806 - val_accuracy: 0.9769\n",
      "Epoch 75/100\n",
      "4220/4220 [==============================] - 14s 3ms/step - loss: 0.0285 - accuracy: 0.9903 - val_loss: 0.0739 - val_accuracy: 0.9796\n",
      "Epoch 76/100\n",
      "4220/4220 [==============================] - 14s 3ms/step - loss: 0.0242 - accuracy: 0.9920 - val_loss: 0.0745 - val_accuracy: 0.9781\n",
      "Epoch 77/100\n",
      "4220/4220 [==============================] - 14s 3ms/step - loss: 0.0255 - accuracy: 0.9913 - val_loss: 0.0803 - val_accuracy: 0.9756\n",
      "Epoch 78/100\n",
      "4220/4220 [==============================] - 14s 3ms/step - loss: 0.0252 - accuracy: 0.9914 - val_loss: 0.0777 - val_accuracy: 0.9797\n",
      "Epoch 79/100\n",
      "4220/4220 [==============================] - 14s 3ms/step - loss: 0.0248 - accuracy: 0.9914 - val_loss: 0.0819 - val_accuracy: 0.9771\n",
      "Epoch 80/100\n",
      "4220/4220 [==============================] - 14s 3ms/step - loss: 0.0255 - accuracy: 0.9914 - val_loss: 0.0713 - val_accuracy: 0.9787\n",
      "Epoch 81/100\n",
      "4220/4220 [==============================] - 14s 3ms/step - loss: 0.0229 - accuracy: 0.9921 - val_loss: 0.0785 - val_accuracy: 0.9773\n",
      "Epoch 82/100\n",
      "4220/4220 [==============================] - 14s 3ms/step - loss: 0.0232 - accuracy: 0.9920 - val_loss: 0.0759 - val_accuracy: 0.9780\n",
      "Epoch 83/100\n",
      "4220/4220 [==============================] - 14s 3ms/step - loss: 0.0252 - accuracy: 0.9917 - val_loss: 0.0746 - val_accuracy: 0.9803\n",
      "Epoch 84/100\n",
      "4220/4220 [==============================] - 14s 3ms/step - loss: 0.0251 - accuracy: 0.9913 - val_loss: 0.0718 - val_accuracy: 0.9779\n",
      "Epoch 85/100\n",
      "4220/4220 [==============================] - 14s 3ms/step - loss: 0.0228 - accuracy: 0.9918 - val_loss: 0.0779 - val_accuracy: 0.9791\n",
      "Epoch 86/100\n",
      "4220/4220 [==============================] - 14s 3ms/step - loss: 0.0240 - accuracy: 0.9919 - val_loss: 0.0847 - val_accuracy: 0.9749\n",
      "Epoch 87/100\n",
      "4220/4220 [==============================] - 14s 3ms/step - loss: 0.0236 - accuracy: 0.9921 - val_loss: 0.0876 - val_accuracy: 0.9756\n",
      "Epoch 88/100\n",
      "4220/4220 [==============================] - 14s 3ms/step - loss: 0.0223 - accuracy: 0.9925 - val_loss: 0.0806 - val_accuracy: 0.9773\n",
      "Epoch 89/100\n",
      "4220/4220 [==============================] - 13s 3ms/step - loss: 0.0212 - accuracy: 0.9929 - val_loss: 0.0976 - val_accuracy: 0.9747\n",
      "Epoch 90/100\n",
      "4220/4220 [==============================] - 13s 3ms/step - loss: 0.0218 - accuracy: 0.9925 - val_loss: 0.0878 - val_accuracy: 0.9771\n",
      "Epoch 91/100\n",
      "4220/4220 [==============================] - 13s 3ms/step - loss: 0.0224 - accuracy: 0.9925 - val_loss: 0.0845 - val_accuracy: 0.9768\n",
      "Epoch 92/100\n",
      "4220/4220 [==============================] - 12s 3ms/step - loss: 0.0213 - accuracy: 0.9926 - val_loss: 0.0861 - val_accuracy: 0.9795\n",
      "Epoch 93/100\n",
      "4220/4220 [==============================] - 10s 2ms/step - loss: 0.0218 - accuracy: 0.9927 - val_loss: 0.0815 - val_accuracy: 0.9783\n",
      "Epoch 94/100\n",
      "4220/4220 [==============================] - 11s 3ms/step - loss: 0.0210 - accuracy: 0.9928 - val_loss: 0.0829 - val_accuracy: 0.9775\n",
      "Epoch 95/100\n",
      "4220/4220 [==============================] - 12s 3ms/step - loss: 0.0218 - accuracy: 0.9926 - val_loss: 0.0855 - val_accuracy: 0.9769\n",
      "Epoch 96/100\n",
      "4220/4220 [==============================] - 11s 3ms/step - loss: 0.0205 - accuracy: 0.9934 - val_loss: 0.0797 - val_accuracy: 0.9797\n",
      "Epoch 97/100\n",
      "4220/4220 [==============================] - 11s 3ms/step - loss: 0.0198 - accuracy: 0.9933 - val_loss: 0.0826 - val_accuracy: 0.9773\n",
      "Epoch 98/100\n",
      "4220/4220 [==============================] - 12s 3ms/step - loss: 0.0197 - accuracy: 0.9934 - val_loss: 0.0800 - val_accuracy: 0.9784\n",
      "Epoch 99/100\n",
      "4220/4220 [==============================] - 12s 3ms/step - loss: 0.0206 - accuracy: 0.9930 - val_loss: 0.0798 - val_accuracy: 0.9776\n",
      "Epoch 100/100\n",
      "4220/4220 [==============================] - 11s 3ms/step - loss: 0.0203 - accuracy: 0.9934 - val_loss: 0.0929 - val_accuracy: 0.9745\n"
     ]
    }
   ],
   "source": [
    "history = model.fit(x_train,\n",
    "                    y_train,\n",
    "                    validation_data=(x_test, y_test),\n",
    "                    batch_size=16,\n",
    "                    epochs=100)"
   ]
  },
  {
   "cell_type": "code",
   "execution_count": 13,
   "metadata": {},
   "outputs": [],
   "source": [
    "import matplotlib.pyplot as plt"
   ]
  },
  {
   "cell_type": "code",
   "execution_count": 16,
   "metadata": {},
   "outputs": [
    {
     "data": {
      "image/png": "[encoded data removed]",
      "text/plain": [
       "<Figure size 864x360 with 1 Axes>"
      ]
     },
     "metadata": {
      "needs_background": "light"
     },
     "output_type": "display_data"
    }
   ],
   "source": [
    "plt.rcParams['figure.figsize'] = 12,5\n",
    "plt.plot(history.history['loss'])\n",
    "plt.plot(history.history['val_loss'])\n",
    "plt.show()"
   ]
  },
  {
   "cell_type": "code",
   "execution_count": 17,
   "metadata": {},
   "outputs": [
    {
     "data": {
      "image/png": "[encoded data removed]",
      "text/plain": [
       "<Figure size 864x360 with 1 Axes>"
      ]
     },
     "metadata": {
      "needs_background": "light"
     },
     "output_type": "display_data"
    }
   ],
   "source": [
    "plt.plot(history.history['accuracy'])\n",
    "plt.plot(history.history['val_accuracy'])\n",
    "plt.show()"
   ]
  },
  {
   "cell_type": "code",
   "execution_count": 56,
   "metadata": {},
   "outputs": [
    {
     "name": "stdout",
     "output_type": "stream",
     "text": [
      "235/235 [==============================] - 0s 1ms/step - loss: 0.0929 - accuracy: 0.9745\n",
      "loss 0.0929\n",
      "accuracy 97.4537\n"
     ]
    }
   ],
   "source": [
    "loss , acc = model.evaluate(x_test, y_test)\n",
    "print(f'loss {np.round(loss, 4)}')\n",
    "print(f'accuracy {np.round((acc*100),4)}')"
   ]
  },
  {
   "cell_type": "code",
   "execution_count": 57,
   "metadata": {},
   "outputs": [],
   "source": [
    "from sklearn.metrics import confusion_matrix, classification_report"
   ]
  },
  {
   "cell_type": "code",
   "execution_count": 58,
   "metadata": {},
   "outputs": [],
   "source": [
    "y_pred = model.predict(x_test)"
   ]
  },
  {
   "cell_type": "code",
   "execution_count": 62,
   "metadata": {},
   "outputs": [],
   "source": [
    "labels = data['mapping']"
   ]
  },
  {
   "cell_type": "code",
   "execution_count": 63,
   "metadata": {
    "scrolled": true
   },
   "outputs": [
    {
     "data": {
      "text/plain": [
       "<matplotlib.axes._subplots.AxesSubplot at 0x7f99205095d0>"
      ]
     },
     "execution_count": 63,
     "metadata": {},
     "output_type": "execute_result"
    },
    {
     "data": {
      "image/png": "[encoded data removed]",
      "text/plain": [
       "<Figure size 864x360 with 2 Axes>"
      ]
     },
     "metadata": {
      "needs_background": "light"
     },
     "output_type": "display_data"
    }
   ],
   "source": [
    "import seaborn as sns\n",
    "matrix = confusion_matrix(y_test, y_pred.argmax(axis=1))\n",
    "sns.heatmap(matrix,annot=True, fmt='d', yticklabels=labels, xticklabels=labels)"
   ]
  },
  {
   "cell_type": "code",
   "execution_count": 65,
   "metadata": {},
   "outputs": [
    {
     "name": "stdout",
     "output_type": "stream",
     "text": [
      "                   precision    recall  f1-score   support\n",
      "\n",
      " Jens_Stoltenberg       0.96      0.97      0.96      1489\n",
      "Benjamin_Netanyau       0.97      0.95      0.96      1494\n",
      "   Nelson_Mandela       0.97      0.97      0.97      1489\n",
      "  Magaret_Tarcher       0.99      0.98      0.99      1488\n",
      "    Julia_Gillard       0.98      0.99      0.99      1541\n",
      "\n",
      "         accuracy                           0.97      7501\n",
      "        macro avg       0.97      0.97      0.97      7501\n",
      "     weighted avg       0.97      0.97      0.97      7501\n",
      "\n"
     ]
    }
   ],
   "source": [
    "print(classification_report(y_test, y_pred.argmax(axis=1), target_names= labels))"
   ]
  },
  {
   "cell_type": "code",
   "execution_count": null,
   "metadata": {},
   "outputs": [],
   "source": []
  }
 ],
 "metadata": {
  "kernelspec": {
   "display_name": "Python 3",
   "language": "python",
   "name": "python3"
  },
  "language_info": {
   "codemirror_mode": {
    "name": "ipython",
    "version": 3
   },
   "file_extension": ".py",
   "mimetype": "text/x-python",
   "name": "python",
   "nbconvert_exporter": "python",
   "pygments_lexer": "ipython3",
   "version": "3.7.6"
  }
 },
 "nbformat": 4,
 "nbformat_minor": 4
}
